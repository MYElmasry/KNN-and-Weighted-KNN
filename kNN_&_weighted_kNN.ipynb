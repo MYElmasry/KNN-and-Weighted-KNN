{
  "nbformat": 4,
  "nbformat_minor": 0,
  "metadata": {
    "colab": {
      "provenance": [],
      "authorship_tag": "ABX9TyMGNJFj/Is8yXZ8zF4N35Xs",
      "include_colab_link": true
    },
    "kernelspec": {
      "name": "python3",
      "display_name": "Python 3"
    },
    "language_info": {
      "name": "python"
    }
  },
  "cells": [
    {
      "cell_type": "markdown",
      "metadata": {
        "id": "view-in-github",
        "colab_type": "text"
      },
      "source": [
        "<a href=\"https://colab.research.google.com/github/MYElmasry/KNN-and-Weighted-KNN./blob/main/kNN_%26_weighted_kNN.ipynb\" target=\"_parent\"><img src=\"https://colab.research.google.com/assets/colab-badge.svg\" alt=\"Open In Colab\"/></a>"
      ]
    },
    {
      "cell_type": "code",
      "execution_count": 128,
      "metadata": {
        "id": "cUvH811bdmYa"
      },
      "outputs": [],
      "source": [
        "from sklearn.datasets import load_iris\n",
        "from sklearn.model_selection import train_test_split\n",
        "import pandas as pd\n",
        "import numpy as np\n",
        "import matplotlib.pyplot as plt\n",
        "from sklearn.metrics import accuracy_score\n",
        "from collections import Counter"
      ]
    },
    {
      "cell_type": "code",
      "source": [
        "iris = load_iris()\n",
        "X = iris.data \n",
        "y = iris.target\n",
        "X_train, X_test, y_train, y_test = train_test_split(X, y, test_size=0.25, shuffle = True)"
      ],
      "metadata": {
        "id": "lKeVcZXXfCsC"
      },
      "execution_count": 184,
      "outputs": []
    },
    {
      "cell_type": "code",
      "source": [
        "df = pd.DataFrame(data=X_train, columns=iris.feature_names)\n",
        "df['target'] = y_train\n",
        "df.head()"
      ],
      "metadata": {
        "colab": {
          "base_uri": "https://localhost:8080/",
          "height": 206
        },
        "id": "ZnwFBb1zhAAn",
        "outputId": "72ac862a-e541-418f-84ca-479824bae2ca"
      },
      "execution_count": 185,
      "outputs": [
        {
          "output_type": "execute_result",
          "data": {
            "text/plain": [
              "   sepal length (cm)  sepal width (cm)  petal length (cm)  petal width (cm)  \\\n",
              "0                4.9               3.1                1.5               0.1   \n",
              "1                6.1               2.8                4.0               1.3   \n",
              "2                5.9               3.0                4.2               1.5   \n",
              "3                7.3               2.9                6.3               1.8   \n",
              "4                5.0               2.3                3.3               1.0   \n",
              "\n",
              "   target  \n",
              "0       0  \n",
              "1       1  \n",
              "2       1  \n",
              "3       2  \n",
              "4       1  "
            ],
            "text/html": [
              "\n",
              "  <div id=\"df-bc489cc3-8a49-47fc-94cc-782b0f9d9497\">\n",
              "    <div class=\"colab-df-container\">\n",
              "      <div>\n",
              "<style scoped>\n",
              "    .dataframe tbody tr th:only-of-type {\n",
              "        vertical-align: middle;\n",
              "    }\n",
              "\n",
              "    .dataframe tbody tr th {\n",
              "        vertical-align: top;\n",
              "    }\n",
              "\n",
              "    .dataframe thead th {\n",
              "        text-align: right;\n",
              "    }\n",
              "</style>\n",
              "<table border=\"1\" class=\"dataframe\">\n",
              "  <thead>\n",
              "    <tr style=\"text-align: right;\">\n",
              "      <th></th>\n",
              "      <th>sepal length (cm)</th>\n",
              "      <th>sepal width (cm)</th>\n",
              "      <th>petal length (cm)</th>\n",
              "      <th>petal width (cm)</th>\n",
              "      <th>target</th>\n",
              "    </tr>\n",
              "  </thead>\n",
              "  <tbody>\n",
              "    <tr>\n",
              "      <th>0</th>\n",
              "      <td>4.9</td>\n",
              "      <td>3.1</td>\n",
              "      <td>1.5</td>\n",
              "      <td>0.1</td>\n",
              "      <td>0</td>\n",
              "    </tr>\n",
              "    <tr>\n",
              "      <th>1</th>\n",
              "      <td>6.1</td>\n",
              "      <td>2.8</td>\n",
              "      <td>4.0</td>\n",
              "      <td>1.3</td>\n",
              "      <td>1</td>\n",
              "    </tr>\n",
              "    <tr>\n",
              "      <th>2</th>\n",
              "      <td>5.9</td>\n",
              "      <td>3.0</td>\n",
              "      <td>4.2</td>\n",
              "      <td>1.5</td>\n",
              "      <td>1</td>\n",
              "    </tr>\n",
              "    <tr>\n",
              "      <th>3</th>\n",
              "      <td>7.3</td>\n",
              "      <td>2.9</td>\n",
              "      <td>6.3</td>\n",
              "      <td>1.8</td>\n",
              "      <td>2</td>\n",
              "    </tr>\n",
              "    <tr>\n",
              "      <th>4</th>\n",
              "      <td>5.0</td>\n",
              "      <td>2.3</td>\n",
              "      <td>3.3</td>\n",
              "      <td>1.0</td>\n",
              "      <td>1</td>\n",
              "    </tr>\n",
              "  </tbody>\n",
              "</table>\n",
              "</div>\n",
              "      <button class=\"colab-df-convert\" onclick=\"convertToInteractive('df-bc489cc3-8a49-47fc-94cc-782b0f9d9497')\"\n",
              "              title=\"Convert this dataframe to an interactive table.\"\n",
              "              style=\"display:none;\">\n",
              "        \n",
              "  <svg xmlns=\"http://www.w3.org/2000/svg\" height=\"24px\"viewBox=\"0 0 24 24\"\n",
              "       width=\"24px\">\n",
              "    <path d=\"M0 0h24v24H0V0z\" fill=\"none\"/>\n",
              "    <path d=\"M18.56 5.44l.94 2.06.94-2.06 2.06-.94-2.06-.94-.94-2.06-.94 2.06-2.06.94zm-11 1L8.5 8.5l.94-2.06 2.06-.94-2.06-.94L8.5 2.5l-.94 2.06-2.06.94zm10 10l.94 2.06.94-2.06 2.06-.94-2.06-.94-.94-2.06-.94 2.06-2.06.94z\"/><path d=\"M17.41 7.96l-1.37-1.37c-.4-.4-.92-.59-1.43-.59-.52 0-1.04.2-1.43.59L10.3 9.45l-7.72 7.72c-.78.78-.78 2.05 0 2.83L4 21.41c.39.39.9.59 1.41.59.51 0 1.02-.2 1.41-.59l7.78-7.78 2.81-2.81c.8-.78.8-2.07 0-2.86zM5.41 20L4 18.59l7.72-7.72 1.47 1.35L5.41 20z\"/>\n",
              "  </svg>\n",
              "      </button>\n",
              "      \n",
              "  <style>\n",
              "    .colab-df-container {\n",
              "      display:flex;\n",
              "      flex-wrap:wrap;\n",
              "      gap: 12px;\n",
              "    }\n",
              "\n",
              "    .colab-df-convert {\n",
              "      background-color: #E8F0FE;\n",
              "      border: none;\n",
              "      border-radius: 50%;\n",
              "      cursor: pointer;\n",
              "      display: none;\n",
              "      fill: #1967D2;\n",
              "      height: 32px;\n",
              "      padding: 0 0 0 0;\n",
              "      width: 32px;\n",
              "    }\n",
              "\n",
              "    .colab-df-convert:hover {\n",
              "      background-color: #E2EBFA;\n",
              "      box-shadow: 0px 1px 2px rgba(60, 64, 67, 0.3), 0px 1px 3px 1px rgba(60, 64, 67, 0.15);\n",
              "      fill: #174EA6;\n",
              "    }\n",
              "\n",
              "    [theme=dark] .colab-df-convert {\n",
              "      background-color: #3B4455;\n",
              "      fill: #D2E3FC;\n",
              "    }\n",
              "\n",
              "    [theme=dark] .colab-df-convert:hover {\n",
              "      background-color: #434B5C;\n",
              "      box-shadow: 0px 1px 3px 1px rgba(0, 0, 0, 0.15);\n",
              "      filter: drop-shadow(0px 1px 2px rgba(0, 0, 0, 0.3));\n",
              "      fill: #FFFFFF;\n",
              "    }\n",
              "  </style>\n",
              "\n",
              "      <script>\n",
              "        const buttonEl =\n",
              "          document.querySelector('#df-bc489cc3-8a49-47fc-94cc-782b0f9d9497 button.colab-df-convert');\n",
              "        buttonEl.style.display =\n",
              "          google.colab.kernel.accessAllowed ? 'block' : 'none';\n",
              "\n",
              "        async function convertToInteractive(key) {\n",
              "          const element = document.querySelector('#df-bc489cc3-8a49-47fc-94cc-782b0f9d9497');\n",
              "          const dataTable =\n",
              "            await google.colab.kernel.invokeFunction('convertToInteractive',\n",
              "                                                     [key], {});\n",
              "          if (!dataTable) return;\n",
              "\n",
              "          const docLinkHtml = 'Like what you see? Visit the ' +\n",
              "            '<a target=\"_blank\" href=https://colab.research.google.com/notebooks/data_table.ipynb>data table notebook</a>'\n",
              "            + ' to learn more about interactive tables.';\n",
              "          element.innerHTML = '';\n",
              "          dataTable['output_type'] = 'display_data';\n",
              "          await google.colab.output.renderOutput(dataTable, element);\n",
              "          const docLink = document.createElement('div');\n",
              "          docLink.innerHTML = docLinkHtml;\n",
              "          element.appendChild(docLink);\n",
              "        }\n",
              "      </script>\n",
              "    </div>\n",
              "  </div>\n",
              "  "
            ]
          },
          "metadata": {},
          "execution_count": 185
        }
      ]
    },
    {
      "cell_type": "code",
      "source": [
        "def euclidean_distance(a, b):\n",
        "    distance = 0\n",
        "    for d in range(len(a)):\n",
        "        distance += (a[d]-b[d])**2\n",
        "    distance = distance ** 0.5\n",
        "    return distance"
      ],
      "metadata": {
        "id": "nv3oyEUziEnP"
      },
      "execution_count": 147,
      "outputs": []
    },
    {
      "cell_type": "code",
      "source": [
        "def manhattan_distance(a, b):\n",
        "  distance = 0\n",
        "  for i in range(len(a)):\n",
        "    distance += abs(a[i]-b[i])\n",
        "  return distance"
      ],
      "metadata": {
        "id": "2t7XoXEjxpVW"
      },
      "execution_count": 132,
      "outputs": []
    },
    {
      "cell_type": "markdown",
      "source": [
        "# **KNN**"
      ],
      "metadata": {
        "id": "c5hjHVCgv-GP"
      }
    },
    {
      "cell_type": "code",
      "source": [
        "def knn_predict(X_train, X_test, y_train, y_test, k):\n",
        "    y_hat_test_euclidean = []\n",
        "    y_hat_test_manhattan = []\n",
        "\n",
        "    for test_point in X_test:\n",
        "        distances = []\n",
        "        for train_point in X_train:\n",
        "            distance = euclidean_distance(test_point, train_point)\n",
        "            distances.append(distance)\n",
        "        df_dists = pd.DataFrame(data=distances, columns=['dist'], index=df.target.index)\n",
        "        df_nn = df_dists.sort_values(by=['dist'], axis=0)[:k]\n",
        "        counter = Counter(y_train[df_nn.index])\n",
        "        prediction = counter.most_common()[0][0]\n",
        "        y_hat_test_euclidean.append(prediction)\n",
        "\n",
        "        distances = []\n",
        "        for train_point in X_train:\n",
        "            distance = manhattan_distance(test_point, train_point)\n",
        "            distances.append(distance)\n",
        "        df_dists = pd.DataFrame(data=distances, columns=['dist'], index=df.target.index)\n",
        "        df_nn = df_dists.sort_values(by=['dist'], axis=0)[:k]\n",
        "        counter = Counter(y_train[df_nn.index])\n",
        "        prediction = counter.most_common()[0][0]\n",
        "        y_hat_test_manhattan.append(prediction)\n",
        "    return y_hat_test_euclidean, y_hat_test_manhattan\n",
        "\n",
        "# Make predictions on test dataset\n",
        "y_hat_test_euclidean, y_hat_test_manhattan= knn_predict(X_train, X_test, y_train, y_test, k=5)\n",
        "\n",
        "print(y_hat_test_euclidean)\n",
        "print(y_hat_test_manhattan)"
      ],
      "metadata": {
        "colab": {
          "base_uri": "https://localhost:8080/"
        },
        "id": "6RWxGev7o-il",
        "outputId": "0a89b74c-57e1-486e-8dee-f3c1abe1939b"
      },
      "execution_count": 186,
      "outputs": [
        {
          "output_type": "stream",
          "name": "stdout",
          "text": [
            "[2, 0, 2, 2, 1, 1, 0, 1, 2, 0, 2, 2, 2, 0, 1, 1, 1, 1, 2, 0, 1, 0, 2, 2, 0, 0, 1, 2, 2, 1, 0, 0, 0, 0, 1, 2, 1, 0]\n",
            "[2, 0, 2, 2, 1, 1, 0, 1, 2, 0, 2, 2, 2, 0, 1, 1, 1, 1, 2, 0, 1, 0, 1, 2, 0, 0, 1, 2, 2, 1, 0, 0, 0, 0, 1, 2, 1, 0]\n"
          ]
        }
      ]
    },
    {
      "cell_type": "code",
      "source": [
        "print(accuracy_score(y_test, y_hat_test_euclidean))\n",
        "print(accuracy_score(y_test, y_hat_test_manhattan))"
      ],
      "metadata": {
        "colab": {
          "base_uri": "https://localhost:8080/"
        },
        "id": "kl5q79eysrEJ",
        "outputId": "e89a4962-ad67-41bf-ece9-8261e748f99f"
      },
      "execution_count": 187,
      "outputs": [
        {
          "output_type": "stream",
          "name": "stdout",
          "text": [
            "1.0\n",
            "0.9736842105263158\n"
          ]
        }
      ]
    },
    {
      "cell_type": "code",
      "source": [
        "# Obtain accuracy score varying k from 1 to 99\n",
        "\n",
        "accuracies_euclidean = []\n",
        "accuracies_manhattan = []\n",
        "\n",
        "for k in range(1,100):\n",
        "    y_hat_test_euclidean, y_hat_test_manhattan = knn_predict(X_train, X_test, y_train, y_test, k)\n",
        "    accuracies_euclidean.append(accuracy_score(y_test, y_hat_test_euclidean))\n",
        "    accuracies_manhattan.append(accuracy_score(y_test, y_hat_test_manhattan))\n",
        "accuracies = np.array([accuracies_euclidean,accuracies_manhattan]).T\n",
        "maxIndex = np.unravel_index(accuracies.argmax(),accuracies.shape)\n",
        "maxAccuracy = round(accuracies[maxIndex[0],maxIndex[1]]*100,2)\n",
        "accuracies = pd.DataFrame(data = accuracies, columns=[\"Eculidean\", \"Manhattan\"], index=range(1,100))\n",
        "print(accuracies)\n",
        "print(\"The Max Acuuracy = \", maxAccuracy,\"When K = \", maxIndex[0]+1, \"While Using \", end=\"\")\n",
        "if maxIndex[1] == 0:\n",
        "  print(\"Eculidean Distance\")\n",
        "else:\n",
        "  print(\"Manhattan Distance\")\n",
        "# Plot the results \n",
        "\n",
        "fig, ax = plt.subplots(figsize=(8,6))\n",
        "ax.plot(range(1,100), accuracies_euclidean , c='r')\n",
        "ax.plot(range(1,100), accuracies_manhattan,  c='b')\n",
        "ax.set_xlabel('# of Nearest Neighbors (k)')\n",
        "ax.set_ylabel('Accuracy (%)');"
      ],
      "metadata": {
        "colab": {
          "base_uri": "https://localhost:8080/",
          "height": 649
        },
        "id": "deUqfqcVurFA",
        "outputId": "2de58b06-05ab-43f2-b348-8841bafdca84"
      },
      "execution_count": 188,
      "outputs": [
        {
          "output_type": "stream",
          "name": "stdout",
          "text": [
            "    Eculidean  Manhattan\n",
            "1    0.973684   0.947368\n",
            "2    0.973684   0.947368\n",
            "3    1.000000   1.000000\n",
            "4    1.000000   0.947368\n",
            "5    1.000000   0.973684\n",
            "..        ...        ...\n",
            "95   0.315789   0.315789\n",
            "96   0.315789   0.315789\n",
            "97   0.315789   0.315789\n",
            "98   0.315789   0.315789\n",
            "99   0.315789   0.315789\n",
            "\n",
            "[99 rows x 2 columns]\n",
            "The Max Acuuracy =  100.0 When K =  3 While Using Eculidean Distance\n"
          ]
        },
        {
          "output_type": "display_data",
          "data": {
            "text/plain": [
              "<Figure size 576x432 with 1 Axes>"
            ],
            "image/png": "[encoded data removed]"
          },
          "metadata": {
            "needs_background": "light"
          }
        }
      ]
    },
    {
      "cell_type": "markdown",
      "source": [
        "# **Weighted KNN**"
      ],
      "metadata": {
        "id": "-9Ky6wWewNFv"
      }
    },
    {
      "cell_type": "code",
      "source": [
        "def weighted_knn_predict(X_train, X_test, y_train, y_test, k):\n",
        "    y_hat_test_euclidean = []\n",
        "    y_hat_test_manhattan = []\n",
        "\n",
        "    for test_point in X_test:\n",
        "        distances = []\n",
        "        for train_point in X_train:\n",
        "            distance = euclidean_distance(test_point, train_point)\n",
        "            distances.append(distance)\n",
        "        df_dists = pd.DataFrame(data=distances, columns=['dist'], index=df.target.index)\n",
        "        df_nn = df_dists.sort_values(by=['dist'], axis=0)[:k]\n",
        "        class0 = []\n",
        "        class1 = []\n",
        "        class2 = []\n",
        "        for i in df_nn.index:\n",
        "          if(y_train[i]) == 0:\n",
        "            class0.append(1/df_nn.dist[i])\n",
        "          elif(y_train[i]) == 1:\n",
        "            class1.append(1/df_nn.dist[i])\n",
        "          elif(y_train[i]) == 2:\n",
        "            class2.append(1/df_nn.dist[i])\n",
        "        # print(class0, class1, class2)\n",
        "        class0 = sum(class0)\n",
        "        class1 = sum(class1)\n",
        "        class2 = sum(class2)\n",
        "        pointClass = [class0, class1, class2].index(max(class0, class1, class2))\n",
        "        y_hat_test_euclidean.append(pointClass)\n",
        "\n",
        "        distances = []\n",
        "        for train_point in X_train:\n",
        "            distance = manhattan_distance(test_point, train_point)\n",
        "            distances.append(distance)\n",
        "        df_dists = pd.DataFrame(data=distances, columns=['dist'], index=df.target.index)\n",
        "        df_nn = df_dists.sort_values(by=['dist'], axis=0)[:k]\n",
        "        class0 = []\n",
        "        class1 = []\n",
        "        class2 = []\n",
        "        for i in df_nn.index:\n",
        "          if(y_train[i]) == 0:\n",
        "            class0.append(1/df_nn.dist[i])\n",
        "          elif(y_train[i]) == 1:\n",
        "            class1.append(1/df_nn.dist[i])\n",
        "          elif(y_train[i]) == 2:\n",
        "            class2.append(1/df_nn.dist[i])\n",
        "        # print(class0, class1, class2)\n",
        "        class0 = sum(class0)\n",
        "        class1 = sum(class1)\n",
        "        class2 = sum(class2)\n",
        "        pointClass = [class0, class1, class2].index(max(class0, class1, class2))\n",
        "        y_hat_test_manhattan.append(pointClass)\n",
        "      \n",
        "    return y_hat_test_euclidean, y_hat_test_manhattan\n",
        "\n",
        "y_hat_test_euclidean, y_hat_test_manhattan = weighted_knn_predict(X_train, X_test, y_train, y_test, k=5)\n",
        "\n",
        "print(y_hat_test_euclidean)\n",
        "print(y_hat_test_manhattan)"
      ],
      "metadata": {
        "colab": {
          "base_uri": "https://localhost:8080/"
        },
        "id": "tohDHpCTwRvY",
        "outputId": "dfeb61c4-0f47-44f4-98bf-45768adc6ab8"
      },
      "execution_count": 189,
      "outputs": [
        {
          "output_type": "stream",
          "name": "stdout",
          "text": [
            "[2, 0, 2, 2, 1, 1, 0, 1, 2, 0, 2, 2, 2, 0, 1, 1, 1, 1, 2, 0, 1, 0, 2, 2, 0, 0, 1, 2, 2, 1, 0, 0, 0, 0, 1, 2, 1, 0]\n",
            "[2, 0, 2, 2, 1, 1, 0, 1, 2, 0, 2, 2, 2, 0, 1, 1, 1, 1, 2, 0, 1, 0, 1, 2, 0, 0, 1, 2, 2, 1, 0, 0, 0, 0, 1, 2, 1, 0]\n"
          ]
        }
      ]
    },
    {
      "cell_type": "code",
      "source": [
        "print(accuracy_score(y_test, y_hat_test_euclidean))\n",
        "print(accuracy_score(y_test, y_hat_test_manhattan))"
      ],
      "metadata": {
        "colab": {
          "base_uri": "https://localhost:8080/"
        },
        "id": "0IxKoykXZmgC",
        "outputId": "cb5dff32-ddd5-4c27-a3c1-6989a943dcda"
      },
      "execution_count": 190,
      "outputs": [
        {
          "output_type": "stream",
          "name": "stdout",
          "text": [
            "1.0\n",
            "0.9736842105263158\n"
          ]
        }
      ]
    },
    {
      "cell_type": "code",
      "source": [
        "# Obtain accuracy score varying k from 1 to 99\n",
        "\n",
        "accuracies_euclidean = []\n",
        "accuracies_manhattan = []\n",
        "\n",
        "for k in range(1,100):\n",
        "    y_hat_test_euclidean, y_hat_test_manhattan = weighted_knn_predict(X_train, X_test, y_train, y_test, k)\n",
        "    accuracies_euclidean.append(accuracy_score(y_test, y_hat_test_euclidean))\n",
        "    accuracies_manhattan.append(accuracy_score(y_test, y_hat_test_manhattan))\n",
        "accuracies = np.array([accuracies_euclidean,accuracies_manhattan]).T\n",
        "maxIndex = np.unravel_index(accuracies.argmax(),accuracies.shape)\n",
        "maxAccuracy = round(accuracies[maxIndex[0],maxIndex[1]]*100,2)\n",
        "accuracies = pd.DataFrame(data = accuracies, columns=[\"Eculidean\", \"Manhattan\"], index=range(1,100))\n",
        "print(accuracies)\n",
        "print(\"The Max Acuuracy = \", maxAccuracy,\"When K = \", maxIndex[0]+1, \"While Using \", end=\"\")\n",
        "if maxIndex[1] == 0:\n",
        "  print(\"Eculidean Distance\")\n",
        "else:\n",
        "  print(\"Manhattan Distance\")\n",
        "# Plot the results \n",
        "\n",
        "fig, ax = plt.subplots(figsize=(8,6))\n",
        "ax.plot(range(1,100), accuracies_euclidean , c='r')\n",
        "ax.plot(range(1,100), accuracies_manhattan,  c='b')\n",
        "ax.set_xlabel('# of Nearest Neighbors (k)')\n",
        "ax.set_ylabel('Accuracy (%)');"
      ],
      "metadata": {
        "colab": {
          "base_uri": "https://localhost:8080/",
          "height": 649
        },
        "id": "LF25zLFcaRvV",
        "outputId": "fe7aee5e-bf57-4c4a-d452-b7cca33d1b00"
      },
      "execution_count": 191,
      "outputs": [
        {
          "output_type": "stream",
          "name": "stdout",
          "text": [
            "    Eculidean  Manhattan\n",
            "1    0.973684   0.947368\n",
            "2    0.973684   0.947368\n",
            "3    1.000000   1.000000\n",
            "4    1.000000   1.000000\n",
            "5    1.000000   0.973684\n",
            "..        ...        ...\n",
            "95   0.973684   0.973684\n",
            "96   0.973684   0.973684\n",
            "97   0.973684   0.973684\n",
            "98   0.973684   0.973684\n",
            "99   0.973684   0.973684\n",
            "\n",
            "[99 rows x 2 columns]\n",
            "The Max Acuuracy =  100.0 When K =  3 While Using Eculidean Distance\n"
          ]
        },
        {
          "output_type": "display_data",
          "data": {
            "text/plain": [
              "<Figure size 576x432 with 1 Axes>"
            ],
            "image/png": "[encoded data removed]"
          },
          "metadata": {
            "needs_background": "light"
          }
        }
      ]
    }
  ]
}